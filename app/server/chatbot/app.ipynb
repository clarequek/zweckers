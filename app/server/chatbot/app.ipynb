{
 "cells": [
  {
   "cell_type": "code",
   "execution_count": null,
   "metadata": {},
   "outputs": [
    {
     "name": "stdout",
     "output_type": "stream",
     "text": [
      " * Serving Flask app '__main__'\n",
      " * Debug mode: off\n"
     ]
    },
    {
     "name": "stderr",
     "output_type": "stream",
     "text": [
      "\u001b[31m\u001b[1mWARNING: This is a development server. Do not use it in a production deployment. Use a production WSGI server instead.\u001b[0m\n",
      " * Running on http://127.0.0.1:5000\n",
      "\u001b[33mPress CTRL+C to quit\u001b[0m\n",
      "127.0.0.1 - - [01/Feb/2025 18:08:55] \"POST /get HTTP/1.1\" 200 -\n"
     ]
    }
   ],
   "source": [
    "from flask import Flask, render_template, request, jsonify\n",
    "from flask_cors import CORS  # For React communication with Flask\n",
    "import os\n",
    "from groq import Groq\n",
    "\n",
    "app = Flask(__name__)\n",
    "CORS(app)\n",
    "\n",
    "# API Key Set-Up\n",
    "groq_api_key = os.getenv(\"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\") \n",
    "\n",
    "# Load Groq API Key from environment\n",
    "client = Groq(api_key=\"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\")\n",
    "\n",
    "# Define your custom prompt\n",
    "PROMPT = \"Your input text or content that will be processed\"\n",
    "\n",
    "temperature=0.7\n",
    "MaxToken=5000\n",
    "\n",
    "\n",
    "@app.route(\"/\", methods=[\"GET\", \"POST\"])\n",
    "def index():\n",
    "    return render_template('chat.html')\n",
    "\n",
    "\n",
    "@app.route(\"/get\", methods=[\"GET\", \"POST\"])\n",
    "def chat():\n",
    "    msg = request.form[\"msg\"]\n",
    "    input = msg\n",
    "    return get_Chat_response(input)\n",
    "\n",
    "\n",
    "def get_Chat_response(text):\n",
    "    # Read the PlantUML diagram from the 'server/ner_diagram' directory\n",
    "    try:\n",
    "        with open('../ner_diagram/temp.puml', 'r') as file:\n",
    "            plantuml_content = file.read()\n",
    "    except FileNotFoundError:\n",
    "        return jsonify({\"error\": \"PlantUML diagram file not found.\"})\n",
    "\n",
    "    # Construct the prompt based on the user's input (with the diagram)\n",
    "    prompt = f\"\"\"\n",
    "    You are named botER.\n",
    "\n",
    "    You are an expert in ER diagrams and relationship extraction.\n",
    "\n",
    "    The user has asked: \"{text}\"\n",
    "\n",
    "    Here is the PlantUML diagram:\n",
    "\n",
    "    {plantuml_content}\n",
    "\n",
    "    Your task is to:\n",
    "\n",
    "    1. Extract the relevant **entities**, **relationships**, and **attributes** from the diagram.\n",
    "    2. Explain the relationships between the entities in plain language.\n",
    "    3. Describe the key attributes of each entity.\n",
    "    4. Provide a detailed explanation of how the entities and relationships are related, but **do not use JSON or any structured formatting**.\n",
    "    5. Focus on clarity, and provide a confident, elaborative response to the user's question.\n",
    "\n",
    "    Answer directly and confidently without using JSON, just natural language explanations. \n",
    "\n",
    "    \"\"\"\n",
    "\n",
    "    # Call the Groq API with the prompt\n",
    "    response = client.chat.completions.create(\n",
    "        model=\"deepseek-r1-distill-llama-70b\",  # You can change the model to the one you're using\n",
    "        messages=[\n",
    "            {\"role\": \"system\", \"content\": \"You are an expert in ER diagrams and database design, also known as botER.\"},\n",
    "            {\"role\": \"user\", \"content\": prompt},\n",
    "        ],\n",
    "        temperature=temperature,\n",
    "        max_completion_tokens=MaxToken,\n",
    "        top_p=0.95,\n",
    "        stream=False,\n",
    "        stop=None,\n",
    "    )\n",
    "\n",
    "    # Extract and return the response\n",
    "    return response.choices[0].message.content.strip()\n",
    "\n",
    "\n",
    "if __name__ == '__main__':\n",
    "    app.run()"
   ]
  }
 ],
 "metadata": {
  "kernelspec": {
   "display_name": "myenv",
   "language": "python",
   "name": "python3"
  },
  "language_info": {
   "codemirror_mode": {
    "name": "ipython",
    "version": 3
   },
   "file_extension": ".py",
   "mimetype": "text/x-python",
   "name": "python",
   "nbconvert_exporter": "python",
   "pygments_lexer": "ipython3",
   "version": "3.12.8"
  }
 },
 "nbformat": 4,
 "nbformat_minor": 2
}
